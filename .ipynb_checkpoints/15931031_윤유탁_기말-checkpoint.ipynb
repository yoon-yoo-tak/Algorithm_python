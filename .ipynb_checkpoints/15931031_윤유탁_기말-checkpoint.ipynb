{
 "cells": [
  {
   "cell_type": "code",
   "execution_count": 1,
   "metadata": {},
   "outputs": [],
   "source": [
    "import requests \n",
    "from bs4 import BeautifulSoup as bs"
   ]
  },
  {
   "cell_type": "markdown",
   "metadata": {},
   "source": [
    "## 1.1 '열독률 높은 뉴스' 목록 얻어오기\n",
    "- 뉴스 구조 --> https://news.daum.net/ranking/kkomkkom/"
   ]
  },
  {
   "cell_type": "code",
   "execution_count": 2,
   "metadata": {},
   "outputs": [],
   "source": [
    "def get_daum_new_list():\n",
    "    url = 'https://news.daum.net/ranking/kkomkkom/'\n",
    "    resp = requests.get(url)\n",
    "    soup = bs(resp.text, 'html.parser')\n",
    "    addrs = soup.find_all('a', class_='link_thumb')\n",
    "    \n",
    "    news_id_list = []\n",
    "    for x in addrs:\n",
    "        temp = x['href'] \n",
    "        news_id = temp.split('/')[-1]\n",
    "        news_id_list.append(news_id)\n",
    "    \n",
    "    return news_id_list"
   ]
  },
  {
   "cell_type": "code",
   "execution_count": 3,
   "metadata": {},
   "outputs": [],
   "source": [
    "news_list = get_daum_new_list()"
   ]
  },
  {
   "cell_type": "markdown",
   "metadata": {},
   "source": [
    "## 1.2 뉴스 제목(Title) 크롤링"
   ]
  },
  {
   "cell_type": "code",
   "execution_count": 4,
   "metadata": {},
   "outputs": [],
   "source": [
    "def get_daum_news_title(news_id):\n",
    "    url = 'https://news.v.daum.net/v/{}'.format(news_id)\n",
    "    resp = requests.get(url)\n",
    "    soup = bs(resp.text, 'html.parser')\n",
    "    title_tag = soup.select_one('h3.tit_view')\n",
    "    title_tag = title_tag.get_text().replace('\\n', '')\n",
    "    \n",
    "    return title_tag"
   ]
  },
  {
   "cell_type": "code",
   "execution_count": 5,
   "metadata": {},
   "outputs": [
    {
     "data": {
      "text/plain": [
       "\"삼성 '인·재·감' 불문율 깨지나..이재용 '뉴삼성' 인사 임박 [뉴스원샷]\""
      ]
     },
     "execution_count": 5,
     "metadata": {},
     "output_type": "execute_result"
    }
   ],
   "source": [
    "get_daum_news_title('20211205050043705')"
   ]
  },
  {
   "cell_type": "code",
   "execution_count": 6,
   "metadata": {},
   "outputs": [
    {
     "data": {
      "text/plain": [
       "31"
      ]
     },
     "execution_count": 6,
     "metadata": {},
     "output_type": "execute_result"
    }
   ],
   "source": [
    "len(news_list)"
   ]
  },
  {
   "cell_type": "code",
   "execution_count": 7,
   "metadata": {},
   "outputs": [
    {
     "name": "stdout",
     "output_type": "stream",
     "text": [
      "고통 없이 버튼 눌러 죽음 선택..'조력자살 캡슐' 스위스서 도입\n",
      "세월호 이후 7년 8개월 만에 다시 열린 인천∼제주 뱃길..주 3회 왕복 운항\n",
      "딸 때린 옷걸이 숨겼지만..아들이 밝힌 진실 \"엄마가 그랬어요\"\n",
      "'교수 사양' 술집, 부산대 앞에 등장..입장했으면 조용히 먹고 가시라\n",
      "[제보가 뉴스다]개에 물렸는데 \"피 한 방울 안 나네\" 큰소리\n",
      "미, 러 우크라 침공 시 \"노드스트림2 가스관 폐쇄 압박\"\n",
      "[ET] 전쟁할지 모른다는 중국·러시아..배경엔 '경제적 맥락'\n",
      "납치된 아들 찾았는데 양부모 선택..인신매매 판치는 中 슬픈 현실\n",
      "\"정년 앞둔 60대 아버지, 접종후 '원인 불명 혈전'으로 숨져\" 靑 청원\n",
      "\"산모수첩 어딨냐\" 만삭 임신부 차량 막은 관리인, 결국 해고\n",
      "이용호, 국힘 입당.. '이해 vs 황당' 전북 정치권 후폭풍이나\n",
      "인천 살해범, 과거에도 강도살인·강간..무기받고도 감형\n",
      "[단독] '골프장'·'기독교 언론사' 대표 아들..불법 촬영물 62개\n",
      "이별 요구 내연녀 수년간 폭행·협박·성폭행한 50대 징역 10년\n",
      "푸틴, \"책임 떠넘기지 마라\"..美는 천연가스 수출 차단 검토\n",
      "반세기 만에 발견된 추락 여객기 보석상자..누구에게로?\n",
      "사우디, 미에 패트리엇 미사일 추가 공급 호소\n",
      "\"돈 많아 보여서\" 유인..여성·공범 살해한 50대 '계획범죄' 시인\n",
      "미국, 이번엔 러시아와 갈등..'우크라이나' 놓고 왜?\n",
      "문 고장나 욕실에 갇힌 노인..이웃 관심 덕에 구조\n",
      "\"대학교수 출입 삼가\"..술집이 '노(No)교수존' 선언한 이유\n",
      "'인천 男女연쇄살인' 50대..18년전 강도살인으로 15년 복역 후 또 범행\n",
      "갓난아기와 비행기에서 쫓겨난 흑인 커플 아메리칸 항공 상대 소송\n",
      "어촌 마을 덮친 공포의 소떼..농작물 짓밟고 주민도 위협\n",
      "'어떻게 엇나가지 않았죠?' 질문에 이재명 \"넘치게 사랑주던 엄마..선택지는 없었다\"\n",
      "3D프린터 사용 교사 7명 육종암·유방암 등 발병 확인\n",
      "\"이젠 지친다\"..한국타이어, 파업 장기화에 '노노갈등' 조짐\n",
      "'NO 교수존' 공지문 붙인 부산대학가 술집 사장님이 던지는 메시지는?\n",
      "인천 지인·공범 살해 50대男, 18년 전에도 살인..무기징역서 감형\n",
      "[오병상의 코멘터리] 노재승 영입..국민의힘 메시지 맞나\n",
      "[대만은 지금] 반도체 대부 \"TSMC의 최고 경쟁상대는 '삼성'..무시 못해\"\n"
     ]
    }
   ],
   "source": [
    "for x in news_list:\n",
    "    temp = get_daum_news_title(x)\n",
    "    print(temp)"
   ]
  },
  {
   "cell_type": "markdown",
   "metadata": {},
   "source": [
    "."
   ]
  },
  {
   "cell_type": "markdown",
   "metadata": {},
   "source": [
    "## 1.3 뉴스 크롤링"
   ]
  },
  {
   "cell_type": "markdown",
   "metadata": {},
   "source": [
    "- 열독률 높은 뉴스 30개 각각의 뉴스 추출하기"
   ]
  },
  {
   "cell_type": "code",
   "execution_count": 8,
   "metadata": {},
   "outputs": [],
   "source": [
    "def get_daum_news_date_time(news_id):\n",
    "    url = 'https://news.v.daum.net/v/{}'.format(news_id)\n",
    "    resp = requests.get(url)\n",
    "    soup = bs(resp.text, 'html.parser')\n",
    "    info = soup.find('span', class_='info_view')\n",
    "    datetime = info.find('span',class_='num_date')\n",
    "    datetime_result = datetime.get_text()\n",
    "    return datetime_result"
   ]
  },
  {
   "cell_type": "code",
   "execution_count": 9,
   "metadata": {},
   "outputs": [],
   "source": [
    "def get_daum_news_reply(news_id):\n",
    "    url = 'https://news.v.daum.net/v/{}'.format(news_id)\n",
    "    resp = requests.get(url)\n",
    "    soup = bs(resp.text, 'html.parser')\n",
    "    info = soup.find('span', class_='info_view')\n",
    "    reply_count = info.find('span', class_='alex-count-area').get_text()\n",
    "    return reply_count"
   ]
  },
  {
   "cell_type": "code",
   "execution_count": 10,
   "metadata": {},
   "outputs": [],
   "source": [
    "def get_daum_news_reporter(news_id):\n",
    "    url = 'https://news.v.daum.net/v/{}'.format(news_id)\n",
    "    resp = requests.get(url)\n",
    "    soup = bs(resp.text, 'html.parser')\n",
    "    info = soup.find('span', class_='info_view')\n",
    "    reporter = info.find('span', class_='txt_info').get_text()\n",
    "#     container = soup.find('div', id='harmonyContainer')\n",
    "#     contents = ''\n",
    "#     for p in container.find_all('p'):\n",
    "#         temp = p.get_text()\n",
    "#         contents += temp\n",
    "#     reporter = contents.split(']')[0].split('=')[1].replace('기자', '').strip()\n",
    "    return reporter"
   ]
  },
  {
   "cell_type": "code",
   "execution_count": 11,
   "metadata": {},
   "outputs": [],
   "source": [
    "def get_daum_news_content(news_id):\n",
    "    url = 'https://news.v.daum.net/v/{}'.format(news_id)\n",
    "    resp = requests.get(url)\n",
    "    soup = bs(resp.text, 'html.parser')\n",
    "    \n",
    "    content = ''\n",
    "    for p in soup.select('div#harmonyContainer p'):\n",
    "        content += p.get_text()\n",
    "    return content   "
   ]
  },
  {
   "cell_type": "code",
   "execution_count": null,
   "metadata": {},
   "outputs": [
    {
     "name": "stdout",
     "output_type": "stream",
     "text": [
      "------------------------------\n",
      "뉴스제목: 고통 없이 버튼 눌러 죽음 선택..'조력자살 캡슐' 스위스서 도입\n",
      "------------------------------\n",
      "뉴스내용: [서울신문 나우뉴스]버튼 하나만 누르면 고통 없이 죽을 수 있는 ‘조력자살 캡슐’을 스위스가 세계 최초로 도입한다.6일 스위스 공영 스위스앵포에 따르면, 호주 조력자살 캡슐 제조업체 ‘엑시트 인터내셔널’은 자사 조력자살 캡슐을 스위스에서 운용하기 위한 법적 심사에 통과했다고 밝혔다. 업체는 앞으로 스위스와의 협력을 통해 조력자살 캡슐을 내년 안에 운용할 계획이다. 스위스는 1942년부터 자국민은 물론 외국인에게도 조력자살을 허용하고 있다.‘사르코’로 명명된 이 조력자살 캡슐은 ‘죽음의 의사’로 불리는 조력자살 활동가이자 업체 이사인 필립 니츠케 박사가 네덜란드 디자이너 알렉산더 바닝크와 함께 3D 프린터로 만든 캡슐형 조력자살 기계로, 2017년 세상에 공개됐을 때 수많은 논란을 불러 일으켰다. 이 장치가 극단적 선택을 부추긴다는 것이 그 이유였다.사르코는 약물을 투여하는 기존 조력자살 절차와 달리 밀폐된 공간에 질소를 주입해 산소 농도를 급격히 떨어뜨려 탑승자를 저산소증으로 사망에 이르게 하는 ‘질소 질식’의 원리를 사용한다.이에 따라 사르코 이용자는 캡슐 안에 들어가 버튼만 누르면 되는 것이다. 그러면 거의 30초 동안 산소 농도가 21%에서 1%까지 급감해 잠에 빠지게 된다. 의식을 잃기 전 머리가 멍해지거나 약간의 도취감이 들 수 있지만, 최소 5분에서 최대 10분 안에 고통 없이 죽음을 맞이한다는 것이 업체 측 설명이다.조력자살 절차가 끝나면 고인의 유지에 따라 매장이나 화장을 선택할 수 있다. 매장은 캡슐 자체가 관이 돼 그대로 묻힌다. 그러면 캡슐은 미생물에 의해 분해돼 환경에도 영향을 주지 않는다.만일 사르코 이용자가 사지마비 환자라면 버튼 대신 음성이나 눈꺼풀의 움직임에 의한 조작도 가능하다.하지만 사르코는 조력자살이 합법인 스위스에서도 누구나 사용할 수 있는 것은 아니다. 먼저 본인 스스로 조력자살을 선택했다는 점을 입증하기 위해 온라인 심리 검사지에 답해야 하기 때문이다. 조력자살 지원 단체이기도 제조업체는 “인공지능(AI) 기술을 사용해 죽음을 선택하려는 지원자의 정신적 건전성을 평가할 계획”이라고 밝혔다.윤태희 기자 th20022@seoul.co.krCopyrightsⓒ 서울신문사. 무단 전재 및 재배포 금지 \n",
      "------------------------------\n",
      "작성 시간: 2021. 12. 08. 18:31\n",
      "------------------------------\n",
      "댓글 갯수: 0\n",
      "------------------------------\n",
      "기자 이름: 윤태희\n",
      "------------------------------\n",
      "뉴스제목: 세월호 이후 7년 8개월 만에 다시 열린 인천∼제주 뱃길..주 3회 왕복 운항\n",
      "------------------------------\n",
      "뉴스내용:  인천=지건태 기자세월호 참사 이후 7년 넘게 끊긴 인천∼제주 뱃길을 이을 여객선이 10일 취항한다.새로 건조된 여객선은 승객의 안전을 최우선으로 하겠다는 의미를 담아 ‘비욘드 트러스트호’(신뢰, 그 이상)로 정했다.8일 인천지방해양수산청 등에 따르면 비욘드 트러스트호는 매주 3회 인천과 제주를 오갈 예정이다. 인천에서 매주 월·수·금요일 오후 7시 출발해 이튿날 오전 9시 30분 제주에 도착하는 일정이다.제주에서는 화·목·토요일 오후 8시 30분에 출발해 다음 날 오전 10시 인천에 도착한다. 편도 기준으로 운항 거리는 274마일(440㎞)이고 운항 시간은 14시간 안팎이다.2만7000t급 카페리(여객·화물겸용선)인 비욘드 트러스트호는 길이 170m, 너비 26m, 높이 28m로 승객 850명, 승용차 487대, 컨테이너 65개 등을 싣고 최대 25노트(시속 46㎞ 정도)로 운항할 수 있다.선체 내부에는 90여 개 고급 객실과 레스토랑, 비즈니스 라운지, 선셋 테라스, 마사지 라운지, 편의점, 키드 존, 펫 존 등 다양한 고객층을 위한 편의시설을 마련됐다.마루형 이코노미 등급의 평일 요금은 5만4000원, 주말·공휴일 요금은 5만9400원이다. 평일 기준으로 2층 침대가 있는 스탠다드와 디럭스의 운임은 각각 6만1800∼6만5400원이다. 스위트 등급은 32만4000원, VIP 등급은 84만 원의 요금을 내면 된다. 일반 승용차나 승합차를 실으면 22만6000∼48만 원의 요금이 책정된다. 인천에서 제주로 향할 승객은 인천 중구 옛 인천항 제1국제여객터미널을 이용하면 된다.비욘드 트러스트호는 또 세월호 침몰 지점인 전남 진도군 서거차도와 맹골군도 사이 바닷길인 맹골수도를 피해 운항한다.맹골수도는 물살이 빠르고 거세기로 국내에서 손꼽히는 곳이다. 2014년 세월호 참사 당시 거센 조류로 전문 잠수사도 수중 작업에 어려움을 겪었다. 인천에서 제주로 향할 때 ‘지름길’이나 다름없는 맹골수도를 피해 돌아가면 왕복 기준으로 10마일(16㎞)가량 운항 거리가 늘어나지만, 선사 측은 안전을 위해 손해를 감수하기로 했다.한편 인천∼제주 여객선의 운항이 재개되기까지 7년 8개월이 걸렸다. 세월호(6825t급)와 오하마나호(6322t급)를 운항하던 청해진해운이 2014년 5월 면허 취소를 당한 이후 뱃길이 끊겼다. 이어 청해진해운의 면허가 취소된 지 2년 반 만인 2016년 11월 인천∼제주 항로 여객 운송사업자 공모가 진행됐으나 제안서를 냈던 유일한 업체가 적격 기준(100점 만점에 80점)에 미달해 탈락했다. 앞서 2015년에는 수협이 타당성 검토를 하며 인천∼제주 여객선 운항을 저울질했으나 사업성이 떨어지는 것으로 최종 판단해 2016년 사실상 철수했다. 스웨덴의 한 선사가 한국법인을 만들고 관심을 보였으나 세월호 참사로 끊긴 여객 수요를 다시 끌어들일 자신이 없어 포기한 것으로 전해졌다.2018년 4월 다시 진행된 공모에서 모 건설사가 신규 사업자로 선정됐으나 인천항 부두 확보 시점이 미뤄지자 사업을 포기하고 2019년 9월 운항 면허를 반납했다.인천지방해양수산청은 면허 반납 이후 인천∼제주 항로 여객선을 운항할 사업자를 찾는 공모를 다시 진행했고, 2019년 11월 하이덱스스토리지를 신규 사업자로 선정했다.그러나 사업자 공모에서 하이덱스와 경쟁했다가 탈락한 업체가 사업자 선정 결정을 무효로 해달라며 지난해 3월 소송을 제기했고, 1·2심 패소 후에도 상고하면서 취항 일정은 미뤄졌다. 결국 대법원이 지난 9월 원고 패소 판결을 하면서 취항 준비가 본격화했다.하이덱스는 비욘드 트러스트호를 현대미포조선으로부터 인수해 이달 1일 인천항으로 옮겼다. 시험운항, 운항 관리 규정 심사, 선장 적성심사, 본 면허 취득 등을 거쳐 이달 10일 인천∼제주 항로에 취항할 예정이다.Copyrightⓒmunhwa.com 무단 전재 및 재배포 금지\n",
      "------------------------------\n",
      "작성 시간: 2021. 12. 08. 10:40\n"
     ]
    }
   ],
   "source": [
    "result = []\n",
    "for x in news_list:\n",
    "    title = get_daum_news_title(x)\n",
    "    print('---' * 10)\n",
    "    print('뉴스제목: {}'.format(title))\n",
    "    content = get_daum_news_content(x)\n",
    "    print('---' * 10)\n",
    "    print('뉴스내용: {}'.format(content))\n",
    "    datetime = get_daum_news_date_time(x)\n",
    "    print('---' * 10)\n",
    "    print('작성 시간: {}'.format(datetime))\n",
    "    reply_num = get_daum_news_reply(x)\n",
    "    print('---' * 10)\n",
    "    print('댓글 갯수: {}'.format(reply_num))\n",
    "    reporter_name = get_daum_news_reporter(x)\n",
    "    print('---' * 10)\n",
    "    print('기자 이름: {}'.format(reporter_name))\n",
    "    result.append((x, title, content))"
   ]
  },
  {
   "cell_type": "code",
   "execution_count": null,
   "metadata": {},
   "outputs": [],
   "source": []
  }
 ],
 "metadata": {
  "kernelspec": {
   "display_name": "Python 3",
   "language": "python",
   "name": "python3"
  },
  "language_info": {
   "codemirror_mode": {
    "name": "ipython",
    "version": 3
   },
   "file_extension": ".py",
   "mimetype": "text/x-python",
   "name": "python",
   "nbconvert_exporter": "python",
   "pygments_lexer": "ipython3",
   "version": "3.8.5"
  }
 },
 "nbformat": 4,
 "nbformat_minor": 4
}
